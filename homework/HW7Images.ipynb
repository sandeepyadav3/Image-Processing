{
  "nbformat": 4,
  "nbformat_minor": 0,
  "metadata": {
    "accelerator": "GPU",
    "colab": {
      "name": "HW7Images.ipynb",
      "provenance": [],
      "collapsed_sections": []
    },
    "kernelspec": {
      "display_name": "Python 3",
      "language": "python",
      "name": "python3"
    },
    "language_info": {
      "codemirror_mode": {
        "name": "ipython",
        "version": 3
      },
      "file_extension": ".py",
      "mimetype": "text/x-python",
      "name": "python",
      "nbconvert_exporter": "python",
      "pygments_lexer": "ipython3",
      "version": "3.7.6"
    },
    "widgets": {
      "application/vnd.jupyter.widget-state+json": {
        "da1abeb8d30f4f30b890ae4193d62b21": {
          "model_module": "@jupyter-widgets/controls",
          "model_name": "HBoxModel",
          "model_module_version": "1.5.0",
          "state": {
            "_view_name": "HBoxView",
            "_dom_classes": [],
            "_model_name": "HBoxModel",
            "_view_module": "@jupyter-widgets/controls",
            "_model_module_version": "1.5.0",
            "_view_count": null,
            "_view_module_version": "1.5.0",
            "box_style": "",
            "layout": "IPY_MODEL_de5b1cc4159445ae8cf9e69f2770d3d4",
            "_model_module": "@jupyter-widgets/controls",
            "children": [
              "IPY_MODEL_659e06c2da174f88bf27981b4dbf05bb",
              "IPY_MODEL_6efdb766491f496890cfa0883e57edbf",
              "IPY_MODEL_38b385fcb82d402489f0568595af2524"
            ]
          }
        },
        "de5b1cc4159445ae8cf9e69f2770d3d4": {
          "model_module": "@jupyter-widgets/base",
          "model_name": "LayoutModel",
          "model_module_version": "1.2.0",
          "state": {
            "_view_name": "LayoutView",
            "grid_template_rows": null,
            "right": null,
            "justify_content": null,
            "_view_module": "@jupyter-widgets/base",
            "overflow": null,
            "_model_module_version": "1.2.0",
            "_view_count": null,
            "flex_flow": null,
            "width": null,
            "min_width": null,
            "border": null,
            "align_items": null,
            "bottom": null,
            "_model_module": "@jupyter-widgets/base",
            "top": null,
            "grid_column": null,
            "overflow_y": null,
            "overflow_x": null,
            "grid_auto_flow": null,
            "grid_area": null,
            "grid_template_columns": null,
            "flex": null,
            "_model_name": "LayoutModel",
            "justify_items": null,
            "grid_row": null,
            "max_height": null,
            "align_content": null,
            "visibility": null,
            "align_self": null,
            "height": null,
            "min_height": null,
            "padding": null,
            "grid_auto_rows": null,
            "grid_gap": null,
            "max_width": null,
            "order": null,
            "_view_module_version": "1.2.0",
            "grid_template_areas": null,
            "object_position": null,
            "object_fit": null,
            "grid_auto_columns": null,
            "margin": null,
            "display": null,
            "left": null
          }
        },
        "659e06c2da174f88bf27981b4dbf05bb": {
          "model_module": "@jupyter-widgets/controls",
          "model_name": "HTMLModel",
          "model_module_version": "1.5.0",
          "state": {
            "_view_name": "HTMLView",
            "style": "IPY_MODEL_0f18fdd18d504485afe2b6e7560c66cb",
            "_dom_classes": [],
            "description": "",
            "_model_name": "HTMLModel",
            "placeholder": "​",
            "_view_module": "@jupyter-widgets/controls",
            "_model_module_version": "1.5.0",
            "value": "",
            "_view_count": null,
            "_view_module_version": "1.5.0",
            "description_tooltip": null,
            "_model_module": "@jupyter-widgets/controls",
            "layout": "IPY_MODEL_71eeffe48e9a4c889a3b2a79532250b2"
          }
        },
        "6efdb766491f496890cfa0883e57edbf": {
          "model_module": "@jupyter-widgets/controls",
          "model_name": "FloatProgressModel",
          "model_module_version": "1.5.0",
          "state": {
            "_view_name": "ProgressView",
            "style": "IPY_MODEL_ee95fcb5acbd4c679ef0db64ee47eaa3",
            "_dom_classes": [],
            "description": "",
            "_model_name": "FloatProgressModel",
            "bar_style": "success",
            "max": 169001437,
            "_view_module": "@jupyter-widgets/controls",
            "_model_module_version": "1.5.0",
            "value": 169001437,
            "_view_count": null,
            "_view_module_version": "1.5.0",
            "orientation": "horizontal",
            "min": 0,
            "description_tooltip": null,
            "_model_module": "@jupyter-widgets/controls",
            "layout": "IPY_MODEL_4d549185ea1c43b2974c08d408fdd8f6"
          }
        },
        "38b385fcb82d402489f0568595af2524": {
          "model_module": "@jupyter-widgets/controls",
          "model_name": "HTMLModel",
          "model_module_version": "1.5.0",
          "state": {
            "_view_name": "HTMLView",
            "style": "IPY_MODEL_fa350b6042834ee6880fa00dee15217c",
            "_dom_classes": [],
            "description": "",
            "_model_name": "HTMLModel",
            "placeholder": "​",
            "_view_module": "@jupyter-widgets/controls",
            "_model_module_version": "1.5.0",
            "value": " 169001984/? [00:03&lt;00:00, 51704531.74it/s]",
            "_view_count": null,
            "_view_module_version": "1.5.0",
            "description_tooltip": null,
            "_model_module": "@jupyter-widgets/controls",
            "layout": "IPY_MODEL_ebf3a31b5c8849208e732e0b84e5f9ef"
          }
        },
        "0f18fdd18d504485afe2b6e7560c66cb": {
          "model_module": "@jupyter-widgets/controls",
          "model_name": "DescriptionStyleModel",
          "model_module_version": "1.5.0",
          "state": {
            "_view_name": "StyleView",
            "_model_name": "DescriptionStyleModel",
            "description_width": "",
            "_view_module": "@jupyter-widgets/base",
            "_model_module_version": "1.5.0",
            "_view_count": null,
            "_view_module_version": "1.2.0",
            "_model_module": "@jupyter-widgets/controls"
          }
        },
        "71eeffe48e9a4c889a3b2a79532250b2": {
          "model_module": "@jupyter-widgets/base",
          "model_name": "LayoutModel",
          "model_module_version": "1.2.0",
          "state": {
            "_view_name": "LayoutView",
            "grid_template_rows": null,
            "right": null,
            "justify_content": null,
            "_view_module": "@jupyter-widgets/base",
            "overflow": null,
            "_model_module_version": "1.2.0",
            "_view_count": null,
            "flex_flow": null,
            "width": null,
            "min_width": null,
            "border": null,
            "align_items": null,
            "bottom": null,
            "_model_module": "@jupyter-widgets/base",
            "top": null,
            "grid_column": null,
            "overflow_y": null,
            "overflow_x": null,
            "grid_auto_flow": null,
            "grid_area": null,
            "grid_template_columns": null,
            "flex": null,
            "_model_name": "LayoutModel",
            "justify_items": null,
            "grid_row": null,
            "max_height": null,
            "align_content": null,
            "visibility": null,
            "align_self": null,
            "height": null,
            "min_height": null,
            "padding": null,
            "grid_auto_rows": null,
            "grid_gap": null,
            "max_width": null,
            "order": null,
            "_view_module_version": "1.2.0",
            "grid_template_areas": null,
            "object_position": null,
            "object_fit": null,
            "grid_auto_columns": null,
            "margin": null,
            "display": null,
            "left": null
          }
        },
        "ee95fcb5acbd4c679ef0db64ee47eaa3": {
          "model_module": "@jupyter-widgets/controls",
          "model_name": "ProgressStyleModel",
          "model_module_version": "1.5.0",
          "state": {
            "_view_name": "StyleView",
            "_model_name": "ProgressStyleModel",
            "description_width": "",
            "_view_module": "@jupyter-widgets/base",
            "_model_module_version": "1.5.0",
            "_view_count": null,
            "_view_module_version": "1.2.0",
            "bar_color": null,
            "_model_module": "@jupyter-widgets/controls"
          }
        },
        "4d549185ea1c43b2974c08d408fdd8f6": {
          "model_module": "@jupyter-widgets/base",
          "model_name": "LayoutModel",
          "model_module_version": "1.2.0",
          "state": {
            "_view_name": "LayoutView",
            "grid_template_rows": null,
            "right": null,
            "justify_content": null,
            "_view_module": "@jupyter-widgets/base",
            "overflow": null,
            "_model_module_version": "1.2.0",
            "_view_count": null,
            "flex_flow": null,
            "width": null,
            "min_width": null,
            "border": null,
            "align_items": null,
            "bottom": null,
            "_model_module": "@jupyter-widgets/base",
            "top": null,
            "grid_column": null,
            "overflow_y": null,
            "overflow_x": null,
            "grid_auto_flow": null,
            "grid_area": null,
            "grid_template_columns": null,
            "flex": null,
            "_model_name": "LayoutModel",
            "justify_items": null,
            "grid_row": null,
            "max_height": null,
            "align_content": null,
            "visibility": null,
            "align_self": null,
            "height": null,
            "min_height": null,
            "padding": null,
            "grid_auto_rows": null,
            "grid_gap": null,
            "max_width": null,
            "order": null,
            "_view_module_version": "1.2.0",
            "grid_template_areas": null,
            "object_position": null,
            "object_fit": null,
            "grid_auto_columns": null,
            "margin": null,
            "display": null,
            "left": null
          }
        },
        "fa350b6042834ee6880fa00dee15217c": {
          "model_module": "@jupyter-widgets/controls",
          "model_name": "DescriptionStyleModel",
          "model_module_version": "1.5.0",
          "state": {
            "_view_name": "StyleView",
            "_model_name": "DescriptionStyleModel",
            "description_width": "",
            "_view_module": "@jupyter-widgets/base",
            "_model_module_version": "1.5.0",
            "_view_count": null,
            "_view_module_version": "1.2.0",
            "_model_module": "@jupyter-widgets/controls"
          }
        },
        "ebf3a31b5c8849208e732e0b84e5f9ef": {
          "model_module": "@jupyter-widgets/base",
          "model_name": "LayoutModel",
          "model_module_version": "1.2.0",
          "state": {
            "_view_name": "LayoutView",
            "grid_template_rows": null,
            "right": null,
            "justify_content": null,
            "_view_module": "@jupyter-widgets/base",
            "overflow": null,
            "_model_module_version": "1.2.0",
            "_view_count": null,
            "flex_flow": null,
            "width": null,
            "min_width": null,
            "border": null,
            "align_items": null,
            "bottom": null,
            "_model_module": "@jupyter-widgets/base",
            "top": null,
            "grid_column": null,
            "overflow_y": null,
            "overflow_x": null,
            "grid_auto_flow": null,
            "grid_area": null,
            "grid_template_columns": null,
            "flex": null,
            "_model_name": "LayoutModel",
            "justify_items": null,
            "grid_row": null,
            "max_height": null,
            "align_content": null,
            "visibility": null,
            "align_self": null,
            "height": null,
            "min_height": null,
            "padding": null,
            "grid_auto_rows": null,
            "grid_gap": null,
            "max_width": null,
            "order": null,
            "_view_module_version": "1.2.0",
            "grid_template_areas": null,
            "object_position": null,
            "object_fit": null,
            "grid_auto_columns": null,
            "margin": null,
            "display": null,
            "left": null
          }
        }
      }
    }
  },
  "cells": [
    {
      "cell_type": "markdown",
      "metadata": {
        "id": "YPHN7PJgKOzb"
      },
      "source": [
        "# Homework 7\n",
        "\n",
        "In ordinary supervised learning, a model learns to represent categories using labeled instances of the categories. The features that characterize a \"tweet about customer service\" are learned directly from examples of those tweets.\n",
        "\n",
        "\"Zero-shot classification\" relies on previously learned representations. (In the case of CLIP, for instance, the model has already learned a set of *general* relations between images and words.) So we can *transfer* that learning to a new task, and ask CLIP to recognize an arbitrary category like \"posters of a romantic movie\" without showing it examples of the category.\n",
        "\n",
        "This is nice, but how accurate is it really? Can CLIP's zero-shot classification ability compete with supervised models that were directly trained on the categories they're being asked to recognize?\n",
        "\n",
        "This homework asks you to run a simple experiment to find out.\n",
        "\n",
        "The early stages of the notebook will repeat some of the preparation we ran last time, just to set up the model.\n",
        "\n",
        "The homework assignment itself is quite brief, and is located at the bottom of the notebook with the header \"Homework Assignment.\" When you print out the .pdf to hand it in, it's fine (and in fact encouraged) to delete the first N pages of the pdf before you get to the assignment. Unless you do something different there than the set-up below, there's no need to include it, and it will be easier to grade if you cut to the chase."
      ]
    },
    {
      "cell_type": "markdown",
      "metadata": {
        "id": "53N4k0pj_9qL"
      },
      "source": [
        "# Preparation for Colab\n",
        "\n",
        "Make sure you're running a GPU runtime; if not, select \"GPU\" as the hardware accelerator in Runtime > Change Runtime Type in the menu. The next cells will install the `clip` package and its dependencies, and check if PyTorch 1.7.1 or later is installed."
      ]
    },
    {
      "cell_type": "code",
      "metadata": {
        "colab": {
          "base_uri": "https://localhost:8080/"
        },
        "id": "0BpdJkdBssk9",
        "outputId": "9558e2c6-d075-496a-c6a9-b37a145f08ed"
      },
      "source": [
        "! pip install ftfy regex tqdm\n",
        "! pip install git+https://github.com/openai/CLIP.git"
      ],
      "execution_count": 1,
      "outputs": [
        {
          "output_type": "stream",
          "name": "stdout",
          "text": [
            "Collecting ftfy\n",
            "  Downloading ftfy-6.0.3.tar.gz (64 kB)\n",
            "\u001b[?25l\r\u001b[K     |█████                           | 10 kB 19.1 MB/s eta 0:00:01\r\u001b[K     |██████████▏                     | 20 kB 24.3 MB/s eta 0:00:01\r\u001b[K     |███████████████▎                | 30 kB 13.9 MB/s eta 0:00:01\r\u001b[K     |████████████████████▍           | 40 kB 10.1 MB/s eta 0:00:01\r\u001b[K     |█████████████████████████▌      | 51 kB 5.6 MB/s eta 0:00:01\r\u001b[K     |██████████████████████████████▋ | 61 kB 6.1 MB/s eta 0:00:01\r\u001b[K     |████████████████████████████████| 64 kB 1.7 MB/s \n",
            "\u001b[?25hRequirement already satisfied: regex in /usr/local/lib/python3.7/dist-packages (2019.12.20)\n",
            "Requirement already satisfied: tqdm in /usr/local/lib/python3.7/dist-packages (4.62.3)\n",
            "Requirement already satisfied: wcwidth in /usr/local/lib/python3.7/dist-packages (from ftfy) (0.2.5)\n",
            "Building wheels for collected packages: ftfy\n",
            "  Building wheel for ftfy (setup.py) ... \u001b[?25l\u001b[?25hdone\n",
            "  Created wheel for ftfy: filename=ftfy-6.0.3-py3-none-any.whl size=41933 sha256=071f1fcb135448d86f5f6062246a35dfc7bf3b875e2bd015c97bc6ac2c36b86e\n",
            "  Stored in directory: /root/.cache/pip/wheels/19/f5/38/273eb3b5e76dfd850619312f693716ac4518b498f5ffb6f56d\n",
            "Successfully built ftfy\n",
            "Installing collected packages: ftfy\n",
            "Successfully installed ftfy-6.0.3\n",
            "Collecting git+https://github.com/openai/CLIP.git\n",
            "  Cloning https://github.com/openai/CLIP.git to /tmp/pip-req-build-gicrygoq\n",
            "  Running command git clone -q https://github.com/openai/CLIP.git /tmp/pip-req-build-gicrygoq\n",
            "Requirement already satisfied: ftfy in /usr/local/lib/python3.7/dist-packages (from clip==1.0) (6.0.3)\n",
            "Requirement already satisfied: regex in /usr/local/lib/python3.7/dist-packages (from clip==1.0) (2019.12.20)\n",
            "Requirement already satisfied: tqdm in /usr/local/lib/python3.7/dist-packages (from clip==1.0) (4.62.3)\n",
            "Requirement already satisfied: torch in /usr/local/lib/python3.7/dist-packages (from clip==1.0) (1.9.0+cu111)\n",
            "Requirement already satisfied: torchvision in /usr/local/lib/python3.7/dist-packages (from clip==1.0) (0.10.0+cu111)\n",
            "Requirement already satisfied: wcwidth in /usr/local/lib/python3.7/dist-packages (from ftfy->clip==1.0) (0.2.5)\n",
            "Requirement already satisfied: typing-extensions in /usr/local/lib/python3.7/dist-packages (from torch->clip==1.0) (3.7.4.3)\n",
            "Requirement already satisfied: pillow>=5.3.0 in /usr/local/lib/python3.7/dist-packages (from torchvision->clip==1.0) (7.1.2)\n",
            "Requirement already satisfied: numpy in /usr/local/lib/python3.7/dist-packages (from torchvision->clip==1.0) (1.19.5)\n",
            "Building wheels for collected packages: clip\n",
            "  Building wheel for clip (setup.py) ... \u001b[?25l\u001b[?25hdone\n",
            "  Created wheel for clip: filename=clip-1.0-py3-none-any.whl size=1369090 sha256=6cc861c7e70bc97df5d9e2b992e88053b59ccb5798fb6fe98a3c6b5367f093a6\n",
            "  Stored in directory: /tmp/pip-ephem-wheel-cache-2z1lbsku/wheels/fd/b9/c3/5b4470e35ed76e174bff77c92f91da82098d5e35fd5bc8cdac\n",
            "Successfully built clip\n",
            "Installing collected packages: clip\n",
            "Successfully installed clip-1.0\n"
          ]
        }
      ]
    },
    {
      "cell_type": "code",
      "metadata": {
        "colab": {
          "base_uri": "https://localhost:8080/"
        },
        "id": "C1hkDT38hSaP",
        "outputId": "934978f0-8a06-4d8f-bfb4-8cb8a85b32cb"
      },
      "source": [
        "import numpy as np\n",
        "import torch\n",
        "\n",
        "print(\"Torch version:\", torch.__version__)\n",
        "\n",
        "assert torch.__version__.split(\".\") >= [\"1\", \"7\", \"1\"], \"PyTorch 1.7.1 or later is required\""
      ],
      "execution_count": 2,
      "outputs": [
        {
          "output_type": "stream",
          "name": "stdout",
          "text": [
            "Torch version: 1.9.0+cu111\n"
          ]
        }
      ]
    },
    {
      "cell_type": "markdown",
      "metadata": {
        "id": "eFxgLV5HAEEw"
      },
      "source": [
        "# Loading the model\n",
        "\n",
        "`clip.available_models()` will list the names of available CLIP models."
      ]
    },
    {
      "cell_type": "code",
      "metadata": {
        "colab": {
          "base_uri": "https://localhost:8080/"
        },
        "id": "uLFS29hnhlY4",
        "outputId": "5f362b7b-815b-4fbe-89ed-dc7b537c43f8"
      },
      "source": [
        "import clip\n",
        "\n",
        "clip.available_models()"
      ],
      "execution_count": 3,
      "outputs": [
        {
          "output_type": "execute_result",
          "data": {
            "text/plain": [
              "['RN50', 'RN101', 'RN50x4', 'RN50x16', 'ViT-B/32', 'ViT-B/16']"
            ]
          },
          "metadata": {},
          "execution_count": 3
        }
      ]
    },
    {
      "cell_type": "code",
      "metadata": {
        "colab": {
          "base_uri": "https://localhost:8080/"
        },
        "id": "IBRVTY9lbGm8",
        "outputId": "2f9f497b-80c3-4264-e3f4-e135b47c4958"
      },
      "source": [
        "model, preprocess = clip.load(\"ViT-B/32\")\n",
        "model.cuda().eval()\n",
        "input_resolution = model.visual.input_resolution\n",
        "context_length = model.context_length\n",
        "vocab_size = model.vocab_size\n",
        "\n",
        "print(\"Model parameters:\", f\"{np.sum([int(np.prod(p.shape)) for p in model.parameters()]):,}\")\n",
        "print(\"Input resolution:\", input_resolution)\n",
        "print(\"Context length:\", context_length)\n",
        "print(\"Vocab size:\", vocab_size)"
      ],
      "execution_count": 4,
      "outputs": [
        {
          "output_type": "stream",
          "name": "stderr",
          "text": [
            "100%|████████████████████████████████████████| 338M/338M [00:03<00:00, 117MiB/s]\n"
          ]
        },
        {
          "output_type": "stream",
          "name": "stdout",
          "text": [
            "Model parameters: 151,277,313\n",
            "Input resolution: 224\n",
            "Context length: 77\n",
            "Vocab size: 49408\n"
          ]
        }
      ]
    },
    {
      "cell_type": "markdown",
      "metadata": {
        "id": "21slhZGCqANb"
      },
      "source": [
        "# Image Preprocessing\n",
        "\n",
        "We resize the input images and center-crop them to conform with the image resolution that the model expects. Before doing so, we will normalize the pixel intensity using the dataset mean and standard deviation.\n",
        "\n",
        "The second return value from `clip.load()` contains a torchvision `Transform` that performs this preprocessing.\n",
        "\n"
      ]
    },
    {
      "cell_type": "code",
      "metadata": {
        "colab": {
          "base_uri": "https://localhost:8080/"
        },
        "id": "d6cpiIFHp9N6",
        "outputId": "10793e18-b98e-4d1a-f1b7-83df750a8ead"
      },
      "source": [
        "preprocess"
      ],
      "execution_count": 5,
      "outputs": [
        {
          "output_type": "execute_result",
          "data": {
            "text/plain": [
              "Compose(\n",
              "    Resize(size=224, interpolation=bicubic, max_size=None, antialias=None)\n",
              "    CenterCrop(size=(224, 224))\n",
              "    <function _convert_image_to_rgb at 0x7fa3dcd079e0>\n",
              "    ToTensor()\n",
              "    Normalize(mean=(0.48145466, 0.4578275, 0.40821073), std=(0.26862954, 0.26130258, 0.27577711))\n",
              ")"
            ]
          },
          "metadata": {},
          "execution_count": 5
        }
      ]
    },
    {
      "cell_type": "markdown",
      "metadata": {
        "id": "xwSB5jZki3Cj"
      },
      "source": [
        "# Text Preprocessing\n",
        "\n",
        "We use a case-insensitive tokenizer, which can be invoked using `clip.tokenize()`. By default, the outputs are padded to become 77 tokens long, which is what the CLIP models expects.\n",
        "\n",
        "*You don't really have to run this cell; it's just here to illustrate and help you understand what's happening.*"
      ]
    },
    {
      "cell_type": "code",
      "metadata": {
        "colab": {
          "base_uri": "https://localhost:8080/"
        },
        "id": "qGom156-i2kL",
        "outputId": "f360b7f1-56b0-4a02-c580-6c1c55d9d9f3"
      },
      "source": [
        "clip.tokenize(\"Hello World!\")"
      ],
      "execution_count": 6,
      "outputs": [
        {
          "output_type": "execute_result",
          "data": {
            "text/plain": [
              "tensor([[49406,  3306,  1002,   256, 49407,     0,     0,     0,     0,     0,\n",
              "             0,     0,     0,     0,     0,     0,     0,     0,     0,     0,\n",
              "             0,     0,     0,     0,     0,     0,     0,     0,     0,     0,\n",
              "             0,     0,     0,     0,     0,     0,     0,     0,     0,     0,\n",
              "             0,     0,     0,     0,     0,     0,     0,     0,     0,     0,\n",
              "             0,     0,     0,     0,     0,     0,     0,     0,     0,     0,\n",
              "             0,     0,     0,     0,     0,     0,     0,     0,     0,     0,\n",
              "             0,     0,     0,     0,     0,     0,     0]])"
            ]
          },
          "metadata": {},
          "execution_count": 6
        }
      ]
    },
    {
      "cell_type": "markdown",
      "metadata": {
        "id": "4W8ARJVqBJXs"
      },
      "source": [
        "# Setting up input images and texts\n",
        "\n",
        "We are going to feed 8 example images and their textual descriptions to the model, and compare the similarity between the corresponding features.\n",
        "\n",
        "The tokenizer is case-insensitive, and we can freely give any suitable textual descriptions."
      ]
    },
    {
      "cell_type": "code",
      "metadata": {
        "id": "tMc1AXzBlhzm"
      },
      "source": [
        "import os\n",
        "import IPython.display\n",
        "import matplotlib.pyplot as plt\n",
        "from PIL import Image\n",
        "import numpy as np\n",
        "\n",
        "from collections import OrderedDict\n",
        "import torch\n",
        "\n",
        "%matplotlib inline\n",
        "%config InlineBackend.figure_format = 'retina'"
      ],
      "execution_count": 7,
      "outputs": []
    },
    {
      "cell_type": "markdown",
      "metadata": {
        "id": "9ZY0waJQlr33"
      },
      "source": [
        "## Load CIFAR data\n",
        "\n",
        "We load the CIFAR images that we're going to classify."
      ]
    },
    {
      "cell_type": "code",
      "metadata": {
        "colab": {
          "base_uri": "https://localhost:8080/",
          "height": 84,
          "referenced_widgets": [
            "da1abeb8d30f4f30b890ae4193d62b21",
            "de5b1cc4159445ae8cf9e69f2770d3d4",
            "659e06c2da174f88bf27981b4dbf05bb",
            "6efdb766491f496890cfa0883e57edbf",
            "38b385fcb82d402489f0568595af2524",
            "0f18fdd18d504485afe2b6e7560c66cb",
            "71eeffe48e9a4c889a3b2a79532250b2",
            "ee95fcb5acbd4c679ef0db64ee47eaa3",
            "4d549185ea1c43b2974c08d408fdd8f6",
            "fa350b6042834ee6880fa00dee15217c",
            "ebf3a31b5c8849208e732e0b84e5f9ef"
          ]
        },
        "id": "Nqu4GlfPfr-p",
        "outputId": "199fc169-b9e0-45ef-8ca5-184a043d7720"
      },
      "source": [
        "from torchvision.datasets import CIFAR100\n",
        "\n",
        "cifar100 = CIFAR100(os.path.expanduser(\"~/.cache\"), transform=preprocess, download=True)"
      ],
      "execution_count": 8,
      "outputs": [
        {
          "output_type": "stream",
          "name": "stdout",
          "text": [
            "Downloading https://www.cs.toronto.edu/~kriz/cifar-100-python.tar.gz to /root/.cache/cifar-100-python.tar.gz\n"
          ]
        },
        {
          "output_type": "display_data",
          "data": {
            "application/vnd.jupyter.widget-view+json": {
              "model_id": "da1abeb8d30f4f30b890ae4193d62b21",
              "version_minor": 0,
              "version_major": 2
            },
            "text/plain": [
              "  0%|          | 0/169001437 [00:00<?, ?it/s]"
            ]
          },
          "metadata": {}
        },
        {
          "output_type": "stream",
          "name": "stdout",
          "text": [
            "Extracting /root/.cache/cifar-100-python.tar.gz to /root/.cache\n"
          ]
        }
      ]
    },
    {
      "cell_type": "markdown",
      "metadata": {
        "id": "UfSsYNiXnD-D"
      },
      "source": [
        "Let's get comfortable with some of the attributes of the ```cifar100``` object we just created. Most importantly it has \"data\" (a list of the actual images) and \"targets\" (a list of the categories the images belong to, stored as integers). The \"classes\" are category names.\n",
        "\n",
        "The code below uses the __dict__ attribute to find other attributes of cifar100, and prints the length of each attribute. For instance there are 50,000 photos in \"data,\" and 50,000 class labels in \"targets.\""
      ]
    },
    {
      "cell_type": "code",
      "metadata": {
        "colab": {
          "base_uri": "https://localhost:8080/"
        },
        "id": "53Y9jo6ym8cL",
        "outputId": "17db771f-15d5-4f2b-f81b-649f4c1cd1ad"
      },
      "source": [
        "for key in cifar100.__dict__:\n",
        "  try:\n",
        "    print(key, len(getattr(cifar100, key)))\n",
        "  except:\n",
        "    pass"
      ],
      "execution_count": 9,
      "outputs": [
        {
          "output_type": "stream",
          "name": "stdout",
          "text": [
            "root 12\n",
            "data 50000\n",
            "targets 50000\n",
            "classes 100\n",
            "class_to_idx 100\n"
          ]
        }
      ]
    },
    {
      "cell_type": "markdown",
      "metadata": {
        "id": "maPrBPARvQ-K"
      },
      "source": [
        "# What if we tried to categorize CIFAR images using the CIFAR labels?\n",
        "\n",
        "The CIFAR images have been loaded as ordinary numpy arrays, but the \"preprocess\" function that crops them and sizes them appropriately for CLIP expects PIL \"Image\" objects, so we convert them into \"Images\" before preprocessing.\n"
      ]
    },
    {
      "cell_type": "code",
      "metadata": {
        "id": "r1Ud3yqTrTk7"
      },
      "source": [
        "image_input = torch.tensor(np.stack([preprocess(Image.fromarray(x)) for x in cifar100.data[0:8]])).cuda()\n",
        "# Notice the [0: 8] part; that's where we decide to consider only the first eight pictures."
      ],
      "execution_count": 10,
      "outputs": []
    },
    {
      "cell_type": "markdown",
      "metadata": {
        "id": "r4PlyKvQyYCA"
      },
      "source": [
        "To generate textual descriptions of the images, we rely on the fact that cifar100 has a list of \"targets\" (integers that indicate the class of the corresponding image). These can be converted into text using the list of classes that is also in cifar100."
      ]
    },
    {
      "cell_type": "code",
      "metadata": {
        "colab": {
          "base_uri": "https://localhost:8080/"
        },
        "id": "tuYB6JTJyZd1",
        "outputId": "3c585081-de43-47fe-cac8-1cb84d4e6794"
      },
      "source": [
        "print('Classes in order:', cifar100.classes[0:10])\n",
        "print('Indices for the first eight pictures:', cifar100.targets[0:8])\n",
        "\n",
        "text_tokens = clip.tokenize([f\"This is a photo of a {cifar100.classes[label]}\" for label in cifar100.targets[0:8]]).cuda()\n",
        "# Notice the [0: 8] part; that's where we decide to consider only labels for the first 8 pictures."
      ],
      "execution_count": 11,
      "outputs": [
        {
          "output_type": "stream",
          "name": "stdout",
          "text": [
            "Classes in order: ['apple', 'aquarium_fish', 'baby', 'bear', 'beaver', 'bed', 'bee', 'beetle', 'bicycle', 'bottle']\n",
            "Indices for the first eight pictures: [19, 29, 0, 11, 1, 86, 90, 28]\n"
          ]
        }
      ]
    },
    {
      "cell_type": "markdown",
      "metadata": {
        "id": "sqZh8aQgxXBL"
      },
      "source": [
        "At this point \"text_tokens\" contains tokenized versions of sentences like \"This is a photo of a x\" for the first eight categories in \"targets.\"\n",
        "\n",
        "In the next part, we simply run the model to turn images and texts into vectors.\n",
        "\n",
        "Then we compute cosine similarity by normalizing the vectors and taking their dot products."
      ]
    },
    {
      "cell_type": "code",
      "metadata": {
        "id": "d-u6Ba6xrtik"
      },
      "source": [
        "with torch.no_grad():\n",
        "    image_features = model.encode_image(image_input).float()\n",
        "    text_features = model.encode_text(text_tokens).float()"
      ],
      "execution_count": 12,
      "outputs": []
    },
    {
      "cell_type": "markdown",
      "metadata": {
        "id": "Iwvv_DGJ-qJp"
      },
      "source": [
        "Before computing cosine similarity, let's look at the tokenized version of a sentence, and the equivalent vector after \"encoding\" by CLIP."
      ]
    },
    {
      "cell_type": "code",
      "metadata": {
        "colab": {
          "base_uri": "https://localhost:8080/"
        },
        "id": "A4p3hMiJ-0ac",
        "outputId": "67c3efc0-c361-4754-b871-70cd4146154a"
      },
      "source": [
        "print(\"Tokens:\", text_tokens[0])\n",
        "print(\"The encoded vector:\", text_features[0])"
      ],
      "execution_count": 13,
      "outputs": [
        {
          "output_type": "stream",
          "name": "stdout",
          "text": [
            "Tokens: tensor([49406,   589,   533,   320,  1125,   539,   320, 13644, 49407,     0,\n",
            "            0,     0,     0,     0,     0,     0,     0,     0,     0,     0,\n",
            "            0,     0,     0,     0,     0,     0,     0,     0,     0,     0,\n",
            "            0,     0,     0,     0,     0,     0,     0,     0,     0,     0,\n",
            "            0,     0,     0,     0,     0,     0,     0,     0,     0,     0,\n",
            "            0,     0,     0,     0,     0,     0,     0,     0,     0,     0,\n",
            "            0,     0,     0,     0,     0,     0,     0,     0,     0,     0,\n",
            "            0,     0,     0,     0,     0,     0,     0], device='cuda:0')\n",
            "The encoded vector: tensor([ 3.7183e-01,  2.2156e-01,  7.9468e-02,  9.0820e-02, -4.3976e-02,\n",
            "        -1.2238e-01, -2.3425e-01, -9.7510e-01,  1.8652e-01,  3.7567e-02,\n",
            "         5.0468e-03, -2.4878e-01,  4.2603e-02,  2.2852e-01,  1.3562e-01,\n",
            "        -2.8946e-02,  2.7271e-01, -3.2373e-01, -1.3147e-01,  1.2683e-01,\n",
            "         3.0200e-01,  2.6660e-01,  4.7314e-01, -3.1958e-01, -1.2317e-01,\n",
            "         5.8258e-02, -7.8491e-02,  4.6606e-01, -1.4758e-01, -9.0759e-02,\n",
            "         3.6694e-01,  1.9202e-01,  7.9468e-02,  4.6069e-01,  2.0874e-01,\n",
            "        -6.2378e-02, -2.4780e-01, -5.7434e-02, -9.0515e-02,  1.5845e-01,\n",
            "        -2.6440e-01, -1.5979e-01,  1.7175e-01, -1.9641e-01,  2.6562e-01,\n",
            "         1.4136e-01, -1.5234e-01,  6.4697e-02,  1.5125e-01,  3.0838e-02,\n",
            "         3.8013e-01,  1.0107e-01,  3.5645e-01, -1.5930e-02, -1.8982e-01,\n",
            "        -5.3558e-02,  1.1292e-01,  7.4219e-02, -9.9792e-02,  3.0838e-02,\n",
            "         2.6196e-01, -2.9240e-03,  2.0752e-03,  1.5186e-01,  2.1744e-02,\n",
            "        -2.1655e-01,  3.4912e-02, -1.0858e-01,  1.0437e-02, -4.3793e-02,\n",
            "        -6.7200e-02, -2.0129e-01, -5.7770e-02,  4.7144e-01, -1.7810e-01,\n",
            "        -3.6279e-01,  2.2144e-01,  3.4351e-01,  2.5772e-02,  2.4109e-02,\n",
            "        -1.3885e-02,  8.7891e-02, -3.2812e-01, -2.4768e-01, -2.0081e-02,\n",
            "        -5.5566e-01,  1.6248e-01, -3.0640e-01,  1.9189e-01,  1.3403e-01,\n",
            "         2.4133e-01,  2.5342e-01, -1.4375e+00,  5.2051e-01,  5.5084e-03,\n",
            "        -2.2729e-01,  1.9385e-01,  7.8735e-02, -6.2622e-02, -7.6355e-02,\n",
            "        -5.0879e-01, -3.8745e-01, -2.8296e-01, -3.5645e-02, -2.0544e-01,\n",
            "        -1.1517e-01, -3.9612e-02,  3.5791e-01, -1.1145e-01, -6.5247e-02,\n",
            "        -2.0581e-01, -1.3904e-01,  4.6997e-02,  1.8909e-01, -1.3391e-01,\n",
            "         1.8274e-01,  2.1228e-01,  6.0364e-02,  1.2347e-01,  7.4646e-02,\n",
            "        -1.8054e-01, -9.2188e-01,  1.0901e-01, -5.3613e-01,  1.3818e-01,\n",
            "        -1.8921e-01, -1.6113e-01,  1.4417e-01,  1.0278e-01,  3.1445e-01,\n",
            "         2.9272e-01, -7.8320e-01, -1.1438e-01,  6.0156e+00, -1.2048e-01,\n",
            "        -4.2297e-02, -1.7664e-01, -3.1787e-01, -2.0227e-01, -4.0723e-01,\n",
            "        -2.7686e-01,  1.1847e-01, -4.5654e-01,  8.2581e-02,  5.4504e-02,\n",
            "         1.2781e-01, -1.8848e-01, -4.2822e-01,  2.1606e-01, -4.0332e-01,\n",
            "         2.1118e-01, -3.2422e-01,  1.8762e-01,  1.0025e-02, -4.6021e-02,\n",
            "         2.4512e-01,  2.7393e-01,  8.1970e-02,  1.0931e-01,  4.1211e-01,\n",
            "        -6.9519e-02, -4.3762e-02,  2.0264e-01, -2.3169e-01,  1.2408e-01,\n",
            "         1.4612e-01, -1.2170e-01,  1.0272e-01, -7.2815e-02, -5.5923e-03,\n",
            "         1.8677e-01, -7.7148e-02,  6.8726e-02, -3.0347e-01, -2.2668e-01,\n",
            "         4.7656e-01, -2.2534e-01,  4.9023e-01,  7.2754e-02,  2.7905e-01,\n",
            "        -5.7275e-01, -1.0791e-01, -2.1118e-01,  2.3535e-01, -3.2166e-02,\n",
            "        -1.6980e-01, -8.9355e-02, -1.9363e-02, -5.2051e-01, -3.2867e-02,\n",
            "        -8.8257e-02, -2.8885e-02, -9.3872e-02,  1.3879e-01, -5.6335e-02,\n",
            "         1.9836e-01, -8.4351e-02, -2.1472e-01, -2.9688e-01, -4.7070e-01,\n",
            "        -3.0054e-01, -2.3117e-02, -1.8823e-01,  7.2021e-02,  4.6533e-01,\n",
            "        -2.0630e-01, -6.5430e-02, -2.4817e-01,  2.8101e-01,  2.3499e-02,\n",
            "        -2.1271e-02,  2.6416e-01,  4.6265e-02,  1.5308e-01, -1.9569e-03,\n",
            "         5.1422e-02, -1.0059e-01, -7.2571e-02,  8.8684e-02, -1.0974e-01,\n",
            "         1.4404e-01,  1.6431e-01,  3.9368e-02, -1.9006e-01, -1.4221e-01,\n",
            "        -3.4277e-01,  1.1566e-01, -1.0431e-01, -1.3708e-01, -2.2925e-01,\n",
            "        -5.1697e-02, -8.6243e-02,  1.3550e-01,  5.9814e-01, -1.9775e-02,\n",
            "        -8.5571e-02,  3.5370e-02,  4.6997e-03, -6.4111e-01,  2.1582e-01,\n",
            "         8.0322e-02,  9.6069e-02,  1.2329e-01,  8.8135e-02,  1.0925e-01,\n",
            "        -1.0925e-01,  1.9592e-01, -5.0232e-02, -1.6162e-01,  1.2659e-01,\n",
            "         1.4014e-01, -2.1228e-01,  1.1536e-01,  5.6982e-01, -5.1910e-02,\n",
            "         5.3162e-02,  2.3938e-01,  2.2009e-01,  1.4319e-01,  1.6516e-01,\n",
            "        -1.6870e-01,  1.6861e-02, -1.2115e-02,  8.9661e-02, -1.2134e-01,\n",
            "         4.5776e-01, -2.4976e-01, -6.6211e-01, -2.2021e-01,  2.8589e-01,\n",
            "        -8.2764e-02,  1.1652e-01, -1.9019e-01, -9.8206e-02,  9.3445e-02,\n",
            "        -9.2041e-02,  1.3318e-01,  1.1743e-01, -6.9542e-03,  1.0767e-01,\n",
            "         3.9917e-01,  3.5962e-01,  1.8591e-01,  3.6963e-01,  3.2593e-02,\n",
            "         2.1643e-01, -5.4749e-02, -1.8640e-01,  1.4539e-01,  2.0996e-01,\n",
            "         3.3447e-02,  5.1086e-02, -2.8101e-01, -2.1655e-01,  4.4922e-02,\n",
            "         2.3413e-01,  2.7686e-01,  3.3130e-01,  2.6392e-01, -1.0095e-01,\n",
            "         1.6150e-01, -3.6694e-01,  9.5520e-02,  2.2095e-01, -1.6284e-01,\n",
            "        -3.4644e-01, -7.3486e-02,  4.2725e-02, -1.9104e-02, -1.6211e-01,\n",
            "         4.1260e-01, -1.3330e-01,  6.0078e+00,  8.0338e-03,  3.7079e-02,\n",
            "         2.7686e-01,  1.1707e-01, -1.3281e-01,  4.6118e-01, -1.5820e-01,\n",
            "         5.0293e-01,  2.0142e-01,  8.3435e-02,  2.5073e-01,  2.0496e-01,\n",
            "         1.8835e-01,  3.3081e-02, -3.2910e-01,  3.9990e-01, -1.8301e+00,\n",
            "         5.3894e-02, -3.6255e-02, -1.0492e-01,  1.9274e-03,  6.0181e-02,\n",
            "        -1.7480e-01,  6.7444e-02,  2.0190e-01, -1.7410e-02, -1.2683e-01,\n",
            "        -3.3478e-02, -2.4109e-01,  6.3086e-01,  5.0688e-04,  1.5393e-01,\n",
            "         1.8994e-01,  2.0386e-01,  2.4681e-03, -2.8174e-01, -1.2280e-01,\n",
            "         2.0691e-01,  4.7827e-01,  3.2080e-01,  9.0637e-02,  3.5229e-01,\n",
            "         1.1389e-01,  4.1840e-02, -1.7822e-01, -4.9927e-02, -6.4697e-02,\n",
            "         2.9517e-01,  2.6978e-02, -1.1938e-01,  4.7272e-02,  1.2769e-01,\n",
            "        -3.1555e-02,  1.1444e-01,  3.9642e-02,  1.5869e-01, -5.1727e-02,\n",
            "        -1.7322e-01,  1.9470e-01,  3.2623e-02,  2.8174e-01, -3.1543e-01,\n",
            "         3.3276e-01, -2.9736e-01,  1.2225e-01, -2.9736e-01, -3.7384e-02,\n",
            "         1.7310e-01, -9.7595e-02,  4.0845e-01,  9.1003e-02,  6.1230e-01,\n",
            "        -3.7305e-01, -2.3254e-02, -4.2114e-01, -2.8516e-01, -3.4009e-01,\n",
            "        -5.6104e-01,  1.1652e-01, -6.3538e-02,  6.8726e-02, -2.1350e-01,\n",
            "        -1.1322e-01, -8.3557e-02, -2.6636e-01, -3.9844e-01,  4.0845e-01,\n",
            "         2.1033e-01, -3.0350e-02,  1.1835e-01,  6.8054e-02, -1.6345e-01,\n",
            "        -6.1432e-02,  8.4167e-02, -3.0591e-01,  1.8387e-02, -1.1273e-01,\n",
            "         2.0825e-01, -6.1646e-02,  1.6223e-01,  9.2468e-02,  1.0632e-01,\n",
            "         1.7517e-01, -2.7878e-02, -2.5586e-01,  8.4610e-03, -4.2871e-01,\n",
            "        -2.2961e-01, -1.7700e-01, -1.3123e-01, -4.5654e-01,  6.5491e-02,\n",
            "         3.4668e-01,  3.6426e-01,  3.8306e-01,  7.5623e-02,  1.7505e-01,\n",
            "        -7.7576e-02, -7.3181e-02,  1.6370e-01, -1.7554e-01, -2.0008e-03,\n",
            "         8.2458e-02,  1.3806e-01,  1.5479e-01, -1.3757e-01,  9.2896e-02,\n",
            "        -1.4160e-01,  2.9443e-01, -5.8708e-03, -2.1594e-01,  5.0446e-02,\n",
            "         1.8518e-01,  1.2598e-01, -1.7029e-01,  2.0935e-01, -2.0667e-01,\n",
            "        -3.4814e-01, -1.0963e-02, -4.7302e-02, -5.8301e-01, -1.4966e-01,\n",
            "        -1.5613e-01,  2.6367e-01,  1.7052e-03,  4.5898e-02, -5.8984e-01,\n",
            "         1.3965e-01,  5.2637e-01,  2.9004e-01, -4.8248e-02, -1.6956e-01,\n",
            "         1.2024e-01,  1.0437e-01,  1.3867e-01,  1.7944e-01,  1.0339e-01,\n",
            "         2.2049e-02, -2.7686e-01, -1.0918e-02, -4.0503e-01, -1.5430e-01,\n",
            "         6.8359e-02,  9.7733e-03,  2.9785e-01, -1.4514e-01,  2.8491e-01,\n",
            "        -1.1353e-01, -1.6089e-01, -1.2903e-01,  2.5439e-01, -4.1840e-02,\n",
            "        -1.0327e-01,  9.4788e-02,  4.0192e-02,  9.7046e-02, -7.2693e-02,\n",
            "        -2.1826e-01, -8.7036e-02,  6.1182e-01,  8.5498e-01, -1.4844e-01,\n",
            "        -2.1570e-01,  3.6426e-01,  1.9568e-01, -7.8888e-03,  1.8140e-01,\n",
            "         4.3774e-01, -7.6782e-02,  2.3853e-01,  1.4392e-01, -9.8328e-02,\n",
            "         1.2524e-01,  8.0795e-03,  1.8872e-01, -8.3740e-02, -2.0386e-01,\n",
            "        -1.1304e-01, -1.6138e-01], device='cuda:0')\n"
          ]
        }
      ]
    },
    {
      "cell_type": "markdown",
      "metadata": {
        "id": "seYe2XwH_IF-"
      },
      "source": [
        "You can see that the \"tokens\" are basically a short list of integers corresponding to words and word-parts.\n",
        "\n",
        "The encoded vector is something a lot more difficult to describe: a series of real numbers that define a point in 512-dimensional space.\n",
        "\n",
        "Normalize the vectors and take the dot products between text vectors and image vectors. This will give us \"cosine similarity.\""
      ]
    },
    {
      "cell_type": "code",
      "metadata": {
        "id": "evx1kDgAtVz1"
      },
      "source": [
        "image_features /= image_features.norm(dim=-1, keepdim=True)\n",
        "text_features /= text_features.norm(dim=-1, keepdim=True)\n",
        "similarity = text_features.cpu().numpy() @ image_features.cpu().numpy().T"
      ],
      "execution_count": 14,
      "outputs": []
    },
    {
      "cell_type": "markdown",
      "metadata": {
        "id": "B1ET3wsiy8SP"
      },
      "source": [
        "The code below just visualizes the similarity matrix. It is largely unchanged from our lab."
      ]
    },
    {
      "cell_type": "code",
      "metadata": {
        "id": "JWgGv2V7f1Nz",
        "colab": {
          "base_uri": "https://localhost:8080/",
          "height": 831
        },
        "outputId": "5abd638b-9557-4428-e79a-1d893281ed8a"
      },
      "source": [
        "count = 8\n",
        "cifar_descriptions = [cifar100.classes[x] for x in cifar100.targets[0:8]]\n",
        "\n",
        "plt.figure(figsize=(20, 14))\n",
        "plt.imshow(similarity, vmin=0.1, vmax=0.3)\n",
        "# plt.colorbar()\n",
        "plt.yticks(range(count), cifar_descriptions, fontsize=18)\n",
        "plt.xticks([])\n",
        "for i, image in enumerate(cifar100.data[0:8]):\n",
        "    plt.imshow(image, extent=(i - 0.5, i + 0.5, -1.6, -0.6), origin=\"lower\")\n",
        "for x in range(similarity.shape[1]):\n",
        "    for y in range(similarity.shape[0]):\n",
        "        plt.text(x, y, f\"{similarity[y, x]:.2f}\", ha=\"center\", va=\"center\", size=12)\n",
        "\n",
        "for side in [\"left\", \"top\", \"right\", \"bottom\"]:\n",
        "  plt.gca().spines[side].set_visible(False)\n",
        "\n",
        "plt.xlim([-0.5, count - 0.5])\n",
        "plt.ylim([count + 0.5, -2])\n",
        "\n",
        "plt.title(\"Cosine similarity between text and image features\", size=20)"
      ],
      "execution_count": 15,
      "outputs": [
        {
          "output_type": "execute_result",
          "data": {
            "text/plain": [
              "Text(0.5, 1.0, 'Cosine similarity between text and image features')"
            ]
          },
          "metadata": {},
          "execution_count": 15
        },
        {
          "output_type": "display_data",
          "data": {
            "image/png": "[encoded data removed]",
            "text/plain": [
              "<Figure size 1440x1008 with 1 Axes>"
            ]
          },
          "metadata": {
            "image/png": {
              "width": 728,
              "height": 796
            },
            "needs_background": "light"
          }
        }
      ]
    },
    {
      "cell_type": "markdown",
      "metadata": {
        "id": "fmnWFAU4uvr3"
      },
      "source": [
        "# Let's compare the first eight photos to descriptions of all 100 categories\n",
        "\n",
        "We want to move from this demonstration example to an actual measure of classification accuracy.\n",
        "\n",
        "In the example above, we only checked the eight categories that we knew matched the first eight photos. But we can also compare the first eight photos to all 100 categories."
      ]
    },
    {
      "cell_type": "code",
      "metadata": {
        "id": "7-SuF14xvPIr"
      },
      "source": [
        "all_100_text_tokens = clip.tokenize([f\"This is a photo of a {cifar100.classes[label]}\" for label in range(0, 100)]).cuda()"
      ],
      "execution_count": 16,
      "outputs": []
    },
    {
      "cell_type": "markdown",
      "metadata": {
        "id": "qgqXVQJ5ADjf"
      },
      "source": [
        "The code above creates \"tokens\" for 100 sentences.\n",
        "\n",
        "The code below turns them into encoded vectors, and calculates the similarity matrix for 100 sentences with the 8 images we've been using (the first eight images in CIFAR100)."
      ]
    },
    {
      "cell_type": "code",
      "metadata": {
        "id": "e4dN5unj26hT"
      },
      "source": [
        "with torch.no_grad():\n",
        "    image_features = model.encode_image(image_input).float()\n",
        "    text_features = model.encode_text(all_100_text_tokens).float()\n",
        "\n",
        "image_features /= image_features.norm(dim=-1, keepdim=True)\n",
        "text_features /= text_features.norm(dim=-1, keepdim=True)\n",
        "similarity = text_features.cpu().numpy() @ image_features.cpu().numpy().T"
      ],
      "execution_count": 17,
      "outputs": []
    },
    {
      "cell_type": "code",
      "metadata": {
        "colab": {
          "base_uri": "https://localhost:8080/"
        },
        "id": "GhBPpdYw3Rpt",
        "outputId": "539a5a5c-28a4-43cb-d10c-5b1c85f2dc28"
      },
      "source": [
        "similarity.shape"
      ],
      "execution_count": 18,
      "outputs": [
        {
          "output_type": "execute_result",
          "data": {
            "text/plain": [
              "(100, 8)"
            ]
          },
          "metadata": {},
          "execution_count": 18
        }
      ]
    },
    {
      "cell_type": "markdown",
      "metadata": {
        "id": "HPlbcXoyCQ6B"
      },
      "source": [
        "Note that the similarity matrix has 100 rows (for all 100 possible classes), and only 8 columns (for the 8 photos we're classifying).\n",
        "\n",
        "Below we find the closest category for each of those eight photos. Notice that the telephone is misclassified, and is assigned to a category that wasn't in the matrix above.\n",
        "\n",
        "Notice also, particularly, how we can test whether a photo has been correctly classified."
      ]
    },
    {
      "cell_type": "code",
      "metadata": {
        "colab": {
          "base_uri": "https://localhost:8080/"
        },
        "id": "fFkygm5z59tZ",
        "outputId": "e6b52683-5626-4b5c-e07e-5cae38c062ee"
      },
      "source": [
        "for i in range(0, 8):\n",
        "  similar2photo = similarity[ : , i]\n",
        "  most_similar = np.argmax(similar2photo) # The numpy argmax method gives us the index of the\n",
        "                                          # largest value in a numpy array. So, in this case,\n",
        "                                          # \n",
        "  print(most_similar, cifar100.classes[most_similar], most_similar == cifar100.targets[i])"
      ],
      "execution_count": 19,
      "outputs": [
        {
          "output_type": "stream",
          "name": "stdout",
          "text": [
            "41 lawn_mower False\n",
            "29 dinosaur True\n",
            "0 apple True\n",
            "11 boy True\n",
            "1 aquarium_fish True\n",
            "83 sweet_pepper False\n",
            "90 train True\n",
            "28 cup True\n"
          ]
        }
      ]
    },
    {
      "cell_type": "markdown",
      "metadata": {
        "id": "b7DZitIAf1N0"
      },
      "source": [
        "# Homework assignment\n",
        "\n",
        "How accurate is CLIP at zero-shot classification of the first 500 photos in CIFAR?\n",
        "\n",
        "You can report accuracy simply as the percentage of photos in the first 500 that are assigned to the correct class, using the method above.\n",
        "\n",
        "Be sure that you're comparing images to all 100 classes, and normalizing the vectors before calculating the dot products.\n",
        "\n",
        "For reference, the current state-of-the-art on this dataset is 96.08% accuracy. But when [people first started trying in 2013](https://paperswithcode.com/sota/image-classification-on-cifar-100) 60% was good."
      ]
    },
    {
      "cell_type": "code",
      "metadata": {
        "id": "CE-MZqWdf1N5",
        "colab": {
          "base_uri": "https://localhost:8080/"
        },
        "outputId": "2bd813e4-988d-47e2-d0c4-1b4ff546b51e"
      },
      "source": [
        "images = torch.tensor(np.stack([preprocess(Image.fromarray(x)) for x in cifar100.data[0:500]])).cuda()\n",
        "\n",
        "print('Classes in order:', cifar100.classes[0:100])\n",
        "print('Indices for the first eight pictures:', cifar100.targets[0:500])"
      ],
      "execution_count": 31,
      "outputs": [
        {
          "output_type": "stream",
          "name": "stdout",
          "text": [
            "Classes in order: ['apple', 'aquarium_fish', 'baby', 'bear', 'beaver', 'bed', 'bee', 'beetle', 'bicycle', 'bottle', 'bowl', 'boy', 'bridge', 'bus', 'butterfly', 'camel', 'can', 'castle', 'caterpillar', 'cattle', 'chair', 'chimpanzee', 'clock', 'cloud', 'cockroach', 'couch', 'crab', 'crocodile', 'cup', 'dinosaur', 'dolphin', 'elephant', 'flatfish', 'forest', 'fox', 'girl', 'hamster', 'house', 'kangaroo', 'keyboard', 'lamp', 'lawn_mower', 'leopard', 'lion', 'lizard', 'lobster', 'man', 'maple_tree', 'motorcycle', 'mountain', 'mouse', 'mushroom', 'oak_tree', 'orange', 'orchid', 'otter', 'palm_tree', 'pear', 'pickup_truck', 'pine_tree', 'plain', 'plate', 'poppy', 'porcupine', 'possum', 'rabbit', 'raccoon', 'ray', 'road', 'rocket', 'rose', 'sea', 'seal', 'shark', 'shrew', 'skunk', 'skyscraper', 'snail', 'snake', 'spider', 'squirrel', 'streetcar', 'sunflower', 'sweet_pepper', 'table', 'tank', 'telephone', 'television', 'tiger', 'tractor', 'train', 'trout', 'tulip', 'turtle', 'wardrobe', 'whale', 'willow_tree', 'wolf', 'woman', 'worm']\n",
            "Indices for the first eight pictures: [19, 29, 0, 11, 1, 86, 90, 28, 23, 31, 39, 96, 82, 17, 71, 39, 8, 97, 80, 71, 74, 59, 70, 87, 59, 84, 64, 52, 42, 64, 8, 17, 47, 65, 21, 22, 81, 11, 24, 84, 78, 45, 49, 97, 56, 76, 11, 90, 89, 78, 73, 14, 87, 9, 71, 6, 47, 20, 98, 47, 36, 55, 72, 43, 51, 35, 83, 33, 27, 53, 92, 50, 15, 89, 36, 18, 89, 46, 33, 42, 39, 64, 75, 38, 23, 42, 66, 77, 49, 18, 46, 15, 35, 69, 95, 83, 75, 99, 73, 93, 55, 39, 4, 97, 61, 93, 51, 69, 56, 84, 59, 64, 94, 4, 11, 33, 68, 38, 20, 33, 34, 32, 46, 53, 88, 67, 70, 64, 53, 64, 8, 96, 87, 30, 20, 30, 66, 19, 76, 87, 52, 62, 35, 63, 40, 4, 99, 63, 74, 53, 26, 95, 48, 27, 33, 29, 39, 79, 32, 46, 64, 28, 85, 32, 82, 78, 39, 54, 28, 66, 65, 72, 21, 64, 62, 72, 0, 44, 7, 12, 19, 11, 31, 61, 79, 45, 81, 79, 98, 43, 46, 67, 80, 68, 74, 48, 81, 94, 86, 69, 39, 73, 2, 46, 49, 63, 43, 14, 49, 68, 65, 41, 37, 45, 36, 21, 77, 37, 39, 8, 9, 62, 86, 39, 19, 54, 39, 28, 11, 89, 90, 90, 79, 66, 81, 21, 79, 40, 29, 22, 13, 25, 11, 38, 10, 96, 54, 65, 39, 40, 42, 48, 48, 51, 11, 23, 23, 89, 52, 46, 2, 95, 43, 86, 34, 66, 18, 46, 66, 56, 57, 1, 44, 11, 82, 23, 90, 56, 19, 68, 66, 28, 1, 57, 67, 5, 13, 78, 6, 84, 7, 41, 65, 80, 12, 50, 63, 26, 8, 53, 60, 99, 97, 85, 0, 78, 31, 10, 2, 7, 43, 83, 97, 91, 82, 28, 42, 0, 82, 5, 68, 60, 30, 98, 82, 20, 64, 66, 10, 75, 54, 57, 87, 66, 66, 73, 54, 88, 42, 37, 80, 87, 3, 29, 43, 12, 73, 96, 23, 96, 84, 19, 62, 0, 21, 11, 36, 64, 76, 60, 3, 80, 82, 79, 26, 65, 72, 11, 15, 31, 48, 12, 91, 71, 87, 77, 15, 7, 58, 51, 55, 85, 2, 3, 89, 10, 3, 11, 20, 4, 48, 27, 48, 7, 67, 3, 65, 56, 9, 44, 95, 46, 83, 40, 58, 87, 59, 18, 48, 5, 88, 26, 21, 24, 53, 68, 49, 89, 96, 92, 7, 13, 99, 49, 22, 56, 67, 13, 97, 6, 19, 76, 65, 9, 71, 63, 71, 18, 55, 34, 18, 0, 56, 23, 75, 70, 78, 45, 66, 91, 25, 58, 90, 29, 68, 35, 54, 77, 97, 0, 70, 75, 60, 65, 5, 58, 82, 49, 61, 28, 44, 56, 82, 61, 43, 20, 38, 85, 87, 49, 85, 24, 7, 88, 40, 38, 72, 56, 4, 81, 98, 97, 14, 46, 23, 89, 86, 83, 54, 27]\n"
          ]
        }
      ]
    },
    {
      "cell_type": "code",
      "metadata": {
        "colab": {
          "base_uri": "https://localhost:8080/"
        },
        "id": "XzQyde27SEMu",
        "outputId": "32350c10-2e8a-4454-f00a-d88be2275dcf"
      },
      "source": [
        "new_text_tokens = clip.tokenize([f\"This is a photo of a {cifar100.classes[label]}\" for label in cifar100.targets[0:500]]).cuda()\n",
        "\n",
        "with torch.no_grad():\n",
        "    new_500_image_features = model.encode_image(images).float()\n",
        "    new_500_text_features = model.encode_text(new_text_tokens).float()\n",
        "\n",
        "print(\"Tokens:\", new_text_tokens[0])\n",
        "print(\"The encoded vector:\", new_500_text_features[0])"
      ],
      "execution_count": 32,
      "outputs": [
        {
          "output_type": "stream",
          "name": "stdout",
          "text": [
            "Tokens: tensor([49406,   589,   533,   320,  1125,   539,   320, 13644, 49407,     0,\n",
            "            0,     0,     0,     0,     0,     0,     0,     0,     0,     0,\n",
            "            0,     0,     0,     0,     0,     0,     0,     0,     0,     0,\n",
            "            0,     0,     0,     0,     0,     0,     0,     0,     0,     0,\n",
            "            0,     0,     0,     0,     0,     0,     0,     0,     0,     0,\n",
            "            0,     0,     0,     0,     0,     0,     0,     0,     0,     0,\n",
            "            0,     0,     0,     0,     0,     0,     0,     0,     0,     0,\n",
            "            0,     0,     0,     0,     0,     0,     0], device='cuda:0')\n",
            "The encoded vector: tensor([ 3.7183e-01,  2.2156e-01,  7.9468e-02,  9.0820e-02, -4.3976e-02,\n",
            "        -1.2238e-01, -2.3425e-01, -9.7510e-01,  1.8652e-01,  3.7567e-02,\n",
            "         5.0468e-03, -2.4878e-01,  4.2603e-02,  2.2852e-01,  1.3562e-01,\n",
            "        -2.8946e-02,  2.7271e-01, -3.2373e-01, -1.3147e-01,  1.2683e-01,\n",
            "         3.0200e-01,  2.6660e-01,  4.7314e-01, -3.1958e-01, -1.2317e-01,\n",
            "         5.8258e-02, -7.8491e-02,  4.6606e-01, -1.4758e-01, -9.0759e-02,\n",
            "         3.6694e-01,  1.9202e-01,  7.9468e-02,  4.6069e-01,  2.0874e-01,\n",
            "        -6.2378e-02, -2.4780e-01, -5.7434e-02, -9.0515e-02,  1.5845e-01,\n",
            "        -2.6440e-01, -1.5979e-01,  1.7175e-01, -1.9641e-01,  2.6562e-01,\n",
            "         1.4136e-01, -1.5234e-01,  6.4697e-02,  1.5125e-01,  3.0838e-02,\n",
            "         3.8013e-01,  1.0107e-01,  3.5645e-01, -1.5930e-02, -1.8982e-01,\n",
            "        -5.3558e-02,  1.1292e-01,  7.4219e-02, -9.9792e-02,  3.0838e-02,\n",
            "         2.6196e-01, -2.9240e-03,  2.0752e-03,  1.5186e-01,  2.1744e-02,\n",
            "        -2.1655e-01,  3.4912e-02, -1.0858e-01,  1.0437e-02, -4.3793e-02,\n",
            "        -6.7200e-02, -2.0129e-01, -5.7770e-02,  4.7144e-01, -1.7810e-01,\n",
            "        -3.6279e-01,  2.2144e-01,  3.4351e-01,  2.5772e-02,  2.4109e-02,\n",
            "        -1.3885e-02,  8.7891e-02, -3.2812e-01, -2.4768e-01, -2.0081e-02,\n",
            "        -5.5566e-01,  1.6248e-01, -3.0640e-01,  1.9189e-01,  1.3403e-01,\n",
            "         2.4133e-01,  2.5342e-01, -1.4375e+00,  5.2051e-01,  5.5084e-03,\n",
            "        -2.2729e-01,  1.9385e-01,  7.8735e-02, -6.2622e-02, -7.6355e-02,\n",
            "        -5.0879e-01, -3.8745e-01, -2.8296e-01, -3.5645e-02, -2.0544e-01,\n",
            "        -1.1517e-01, -3.9612e-02,  3.5791e-01, -1.1145e-01, -6.5247e-02,\n",
            "        -2.0581e-01, -1.3904e-01,  4.6997e-02,  1.8909e-01, -1.3391e-01,\n",
            "         1.8274e-01,  2.1228e-01,  6.0364e-02,  1.2347e-01,  7.4646e-02,\n",
            "        -1.8054e-01, -9.2188e-01,  1.0901e-01, -5.3613e-01,  1.3818e-01,\n",
            "        -1.8921e-01, -1.6113e-01,  1.4417e-01,  1.0278e-01,  3.1445e-01,\n",
            "         2.9272e-01, -7.8320e-01, -1.1438e-01,  6.0156e+00, -1.2048e-01,\n",
            "        -4.2297e-02, -1.7664e-01, -3.1787e-01, -2.0227e-01, -4.0723e-01,\n",
            "        -2.7686e-01,  1.1847e-01, -4.5654e-01,  8.2581e-02,  5.4504e-02,\n",
            "         1.2781e-01, -1.8848e-01, -4.2822e-01,  2.1606e-01, -4.0332e-01,\n",
            "         2.1118e-01, -3.2422e-01,  1.8762e-01,  1.0025e-02, -4.6021e-02,\n",
            "         2.4512e-01,  2.7393e-01,  8.1970e-02,  1.0931e-01,  4.1211e-01,\n",
            "        -6.9519e-02, -4.3762e-02,  2.0264e-01, -2.3169e-01,  1.2408e-01,\n",
            "         1.4612e-01, -1.2170e-01,  1.0272e-01, -7.2815e-02, -5.5923e-03,\n",
            "         1.8677e-01, -7.7148e-02,  6.8726e-02, -3.0347e-01, -2.2668e-01,\n",
            "         4.7656e-01, -2.2534e-01,  4.9023e-01,  7.2754e-02,  2.7905e-01,\n",
            "        -5.7275e-01, -1.0791e-01, -2.1118e-01,  2.3535e-01, -3.2166e-02,\n",
            "        -1.6980e-01, -8.9355e-02, -1.9363e-02, -5.2051e-01, -3.2867e-02,\n",
            "        -8.8257e-02, -2.8885e-02, -9.3872e-02,  1.3879e-01, -5.6335e-02,\n",
            "         1.9836e-01, -8.4351e-02, -2.1472e-01, -2.9688e-01, -4.7070e-01,\n",
            "        -3.0054e-01, -2.3117e-02, -1.8823e-01,  7.2021e-02,  4.6533e-01,\n",
            "        -2.0630e-01, -6.5430e-02, -2.4817e-01,  2.8101e-01,  2.3499e-02,\n",
            "        -2.1271e-02,  2.6416e-01,  4.6265e-02,  1.5308e-01, -1.9569e-03,\n",
            "         5.1422e-02, -1.0059e-01, -7.2571e-02,  8.8684e-02, -1.0974e-01,\n",
            "         1.4404e-01,  1.6431e-01,  3.9368e-02, -1.9006e-01, -1.4221e-01,\n",
            "        -3.4277e-01,  1.1566e-01, -1.0431e-01, -1.3708e-01, -2.2925e-01,\n",
            "        -5.1697e-02, -8.6243e-02,  1.3550e-01,  5.9814e-01, -1.9775e-02,\n",
            "        -8.5571e-02,  3.5370e-02,  4.6997e-03, -6.4111e-01,  2.1582e-01,\n",
            "         8.0322e-02,  9.6069e-02,  1.2329e-01,  8.8135e-02,  1.0925e-01,\n",
            "        -1.0925e-01,  1.9592e-01, -5.0232e-02, -1.6162e-01,  1.2659e-01,\n",
            "         1.4014e-01, -2.1228e-01,  1.1536e-01,  5.6982e-01, -5.1910e-02,\n",
            "         5.3162e-02,  2.3938e-01,  2.2009e-01,  1.4319e-01,  1.6516e-01,\n",
            "        -1.6870e-01,  1.6861e-02, -1.2115e-02,  8.9661e-02, -1.2134e-01,\n",
            "         4.5776e-01, -2.4976e-01, -6.6211e-01, -2.2021e-01,  2.8589e-01,\n",
            "        -8.2764e-02,  1.1652e-01, -1.9019e-01, -9.8206e-02,  9.3445e-02,\n",
            "        -9.2041e-02,  1.3318e-01,  1.1743e-01, -6.9542e-03,  1.0767e-01,\n",
            "         3.9917e-01,  3.5962e-01,  1.8591e-01,  3.6963e-01,  3.2593e-02,\n",
            "         2.1643e-01, -5.4749e-02, -1.8640e-01,  1.4539e-01,  2.0996e-01,\n",
            "         3.3447e-02,  5.1086e-02, -2.8101e-01, -2.1655e-01,  4.4922e-02,\n",
            "         2.3413e-01,  2.7686e-01,  3.3130e-01,  2.6392e-01, -1.0095e-01,\n",
            "         1.6150e-01, -3.6694e-01,  9.5520e-02,  2.2095e-01, -1.6284e-01,\n",
            "        -3.4644e-01, -7.3486e-02,  4.2725e-02, -1.9104e-02, -1.6211e-01,\n",
            "         4.1260e-01, -1.3330e-01,  6.0078e+00,  8.0338e-03,  3.7079e-02,\n",
            "         2.7686e-01,  1.1707e-01, -1.3281e-01,  4.6118e-01, -1.5820e-01,\n",
            "         5.0293e-01,  2.0142e-01,  8.3435e-02,  2.5073e-01,  2.0496e-01,\n",
            "         1.8835e-01,  3.3081e-02, -3.2910e-01,  3.9990e-01, -1.8301e+00,\n",
            "         5.3894e-02, -3.6255e-02, -1.0492e-01,  1.9274e-03,  6.0181e-02,\n",
            "        -1.7480e-01,  6.7444e-02,  2.0190e-01, -1.7410e-02, -1.2683e-01,\n",
            "        -3.3478e-02, -2.4109e-01,  6.3086e-01,  5.0688e-04,  1.5393e-01,\n",
            "         1.8994e-01,  2.0386e-01,  2.4681e-03, -2.8174e-01, -1.2280e-01,\n",
            "         2.0691e-01,  4.7827e-01,  3.2080e-01,  9.0637e-02,  3.5229e-01,\n",
            "         1.1389e-01,  4.1840e-02, -1.7822e-01, -4.9927e-02, -6.4697e-02,\n",
            "         2.9517e-01,  2.6978e-02, -1.1938e-01,  4.7272e-02,  1.2769e-01,\n",
            "        -3.1555e-02,  1.1444e-01,  3.9642e-02,  1.5869e-01, -5.1727e-02,\n",
            "        -1.7322e-01,  1.9470e-01,  3.2623e-02,  2.8174e-01, -3.1543e-01,\n",
            "         3.3276e-01, -2.9736e-01,  1.2225e-01, -2.9736e-01, -3.7384e-02,\n",
            "         1.7310e-01, -9.7595e-02,  4.0845e-01,  9.1003e-02,  6.1230e-01,\n",
            "        -3.7305e-01, -2.3254e-02, -4.2114e-01, -2.8516e-01, -3.4009e-01,\n",
            "        -5.6104e-01,  1.1652e-01, -6.3538e-02,  6.8726e-02, -2.1350e-01,\n",
            "        -1.1322e-01, -8.3557e-02, -2.6636e-01, -3.9844e-01,  4.0845e-01,\n",
            "         2.1033e-01, -3.0350e-02,  1.1835e-01,  6.8054e-02, -1.6345e-01,\n",
            "        -6.1432e-02,  8.4167e-02, -3.0591e-01,  1.8387e-02, -1.1273e-01,\n",
            "         2.0825e-01, -6.1646e-02,  1.6223e-01,  9.2468e-02,  1.0632e-01,\n",
            "         1.7517e-01, -2.7878e-02, -2.5586e-01,  8.4610e-03, -4.2871e-01,\n",
            "        -2.2961e-01, -1.7700e-01, -1.3123e-01, -4.5654e-01,  6.5491e-02,\n",
            "         3.4668e-01,  3.6426e-01,  3.8306e-01,  7.5623e-02,  1.7505e-01,\n",
            "        -7.7576e-02, -7.3181e-02,  1.6370e-01, -1.7554e-01, -2.0008e-03,\n",
            "         8.2458e-02,  1.3806e-01,  1.5479e-01, -1.3757e-01,  9.2896e-02,\n",
            "        -1.4160e-01,  2.9443e-01, -5.8708e-03, -2.1594e-01,  5.0446e-02,\n",
            "         1.8518e-01,  1.2598e-01, -1.7029e-01,  2.0935e-01, -2.0667e-01,\n",
            "        -3.4814e-01, -1.0963e-02, -4.7302e-02, -5.8301e-01, -1.4966e-01,\n",
            "        -1.5613e-01,  2.6367e-01,  1.7052e-03,  4.5898e-02, -5.8984e-01,\n",
            "         1.3965e-01,  5.2637e-01,  2.9004e-01, -4.8248e-02, -1.6956e-01,\n",
            "         1.2024e-01,  1.0437e-01,  1.3867e-01,  1.7944e-01,  1.0339e-01,\n",
            "         2.2049e-02, -2.7686e-01, -1.0918e-02, -4.0503e-01, -1.5430e-01,\n",
            "         6.8359e-02,  9.7733e-03,  2.9785e-01, -1.4514e-01,  2.8491e-01,\n",
            "        -1.1353e-01, -1.6089e-01, -1.2903e-01,  2.5439e-01, -4.1840e-02,\n",
            "        -1.0327e-01,  9.4788e-02,  4.0192e-02,  9.7046e-02, -7.2693e-02,\n",
            "        -2.1826e-01, -8.7036e-02,  6.1182e-01,  8.5498e-01, -1.4844e-01,\n",
            "        -2.1570e-01,  3.6426e-01,  1.9568e-01, -7.8888e-03,  1.8140e-01,\n",
            "         4.3774e-01, -7.6782e-02,  2.3853e-01,  1.4392e-01, -9.8328e-02,\n",
            "         1.2524e-01,  8.0795e-03,  1.8872e-01, -8.3740e-02, -2.0386e-01,\n",
            "        -1.1304e-01, -1.6138e-01], device='cuda:0')\n"
          ]
        }
      ]
    },
    {
      "cell_type": "code",
      "metadata": {
        "id": "mz5wQZowSOKu"
      },
      "source": [
        "new_500_image_features /= new_500_image_features.norm(dim=-1, keepdim=True)\n",
        "new_500_text_features /= new_500_text_features.norm(dim=-1, keepdim=True)\n",
        "similarity = new_500_text_features.cpu().numpy() @ new_500_image_features.cpu().numpy().T\n",
        "\n",
        "all_100_text_tokens = clip.tokenize([f\"This is a photo of a {cifar100.classes[label]}\" for label in range(0, 100)]).cuda()\n"
      ],
      "execution_count": 33,
      "outputs": []
    },
    {
      "cell_type": "code",
      "metadata": {
        "colab": {
          "base_uri": "https://localhost:8080/"
        },
        "id": "2RgIu7AISTA1",
        "outputId": "6d91202d-d7ce-47b1-b309-1404e57e17a3"
      },
      "source": [
        "with torch.no_grad():\n",
        "    new_500_image_features = model.encode_image(images).float()\n",
        "    new_500_text_features = model.encode_text(all_100_text_tokens).float()\n",
        "\n",
        "new_500_image_features /= new_500_image_features.norm(dim=-1, keepdim=True)\n",
        "new_500_text_features /= new_500_text_features.norm(dim=-1, keepdim=True)\n",
        "similarity = new_500_text_features.cpu().numpy() @ new_500_image_features.cpu().numpy().T\n",
        "\n",
        "similarity.shape"
      ],
      "execution_count": 34,
      "outputs": [
        {
          "output_type": "execute_result",
          "data": {
            "text/plain": [
              "(100, 500)"
            ]
          },
          "metadata": {},
          "execution_count": 34
        }
      ]
    },
    {
      "cell_type": "code",
      "metadata": {
        "colab": {
          "base_uri": "https://localhost:8080/"
        },
        "id": "cu9rX3AVSVFV",
        "outputId": "6e75df02-9698-4049-a9f2-3ea58c059d9c"
      },
      "source": [
        "similar_vals = []\n",
        "for i in range(0, 500):\n",
        "  similar2photo = similarity[ : , i]\n",
        "  most_similar = np.argmax(similar2photo)\n",
        "\n",
        "  similar_vals.append(most_similar == cifar100.targets[i])\n",
        "true_count = sum(similar_vals)\n",
        "accuracy = (true_count/len(similar_vals))*100\n",
        "print(\"The accuracy of the clip model in classifying the first 500 Cifar100 images is \", accuracy, \"%\")"
      ],
      "execution_count": 36,
      "outputs": [
        {
          "output_type": "stream",
          "name": "stdout",
          "text": [
            "The accuracy of the clip model in classifying the first 500 Cifar100 images is  62.8 %\n"
          ]
        }
      ]
    }
  ]
}